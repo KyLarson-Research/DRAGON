{
 "cells": [
  {
   "cell_type": "code",
   "execution_count": 21,
   "metadata": {},
   "outputs": [],
   "source": [
    "# Author: Kyle Larson on 10-13-2020\n",
    "# File Name: dragon.ipynb\n",
    "# License: GPL 3\n",
    "# Objective: to script generation of useful html in supplement for lambdaschool precoursework\n",
    "import csv\n",
    "import math\n",
    "import pandas\n",
    "import re\n",
    "import turtle\n",
    "\n",
    "deg45 = 45*math.pi/180\n",
    "deg135 = 135*math.pi/180\n",
    "cos45 = math.cos(deg45)\n",
    "sin45 = math.sin(deg45)\n",
    "cos135 = math.cos(deg135)\n",
    "sin135 = math.sin(deg135)\n",
    "sq2 = math.sqrt(2)"
   ]
  },
  {
   "cell_type": "code",
   "execution_count": 22,
   "metadata": {},
   "outputs": [],
   "source": [
    "# TODO: Write function that takes one coordinate x and y and outputs another\n",
    "# this function is the first \n",
    "# (1/sqrt(2))(cos45 x + -sin45 y) ->x\n",
    "# (1/sqrt(2))(sin45 x + cos45 y) ->y\n",
    "def rotate45(x_in, y_in):\n",
    "    x_o = (1/sq2)*(cos45*x_in - sin45*y_in)\n",
    "    y_o = (1/sq2)*(sin45*x_in + cos45*y_in)\n",
    "    return [x_o, y_o]"
   ]
  },
  {
   "cell_type": "code",
   "execution_count": 23,
   "metadata": {},
   "outputs": [],
   "source": [
    "# Todo: Write function that takes one coordinate x and y and outputs another\n",
    "# this function is the second\n",
    "# (1/sqrt(2))(cos135 x + -sin135 y) + 1 ->x\n",
    "# (1/sqrt(2))(sin135 x + cos135 y) + 0 ->y\n",
    "def rotate135(x_in, y_in):\n",
    "    x_o = (1/sq2)*(cos135*x_in - sin135*y_in) + 1\n",
    "    y_o = (1/sq2)*(sin135*x_in + cos135*y_in) + 0\n",
    "    return [x_o, y_o]"
   ]
  },
  {
   "cell_type": "code",
   "execution_count": 91,
   "metadata": {},
   "outputs": [
    {
     "data": {
      "text/plain": [
       "<matplotlib.axes._subplots.AxesSubplot at 0x14324ba4148>"
      ]
     },
     "execution_count": 91,
     "metadata": {},
     "output_type": "execute_result"
    },
    {
     "data": {
      "image/png": "[encoded data removed]",
      "text/plain": [
       "<Figure size 432x288 with 1 Axes>"
      ]
     },
     "metadata": {
      "needs_background": "light"
     },
     "output_type": "display_data"
    }
   ],
   "source": [
    "d = [0,0] * 256\n",
    "df_cord = pandas.DataFrame({ 'X' : [0], 'Y' :[1]}, columns=['X', 'Y'])\n",
    "# d_o = S_o = [0,1]\n",
    "d[0] = [0,1]\n",
    "d[1] = rotate45(d[0][0], d[0][1])\n",
    "df_cord = df_cord.append({'X':d[1][0], 'Y':d[1][1]}, ignore_index=True)\n",
    "\n",
    "df_cord.plot(kind='scatter', x='X', y='Y')"
   ]
  },
  {
   "cell_type": "code",
   "execution_count": 86,
   "metadata": {},
   "outputs": [
    {
     "data": {
      "text/plain": [
       "[[0, 1],\n",
       " [-0.5, 0.5],\n",
       " 0,\n",
       " 0,\n",
       " 0,\n",
       " 0,\n",
       " 0,\n",
       " 0,\n",
       " 0,\n",
       " 0,\n",
       " 0,\n",
       " 0,\n",
       " 0,\n",
       " 0,\n",
       " 0,\n",
       " 0,\n",
       " 0,\n",
       " 0,\n",
       " 0,\n",
       " 0,\n",
       " 0,\n",
       " 0,\n",
       " 0,\n",
       " 0,\n",
       " 0,\n",
       " 0,\n",
       " 0,\n",
       " 0,\n",
       " 0,\n",
       " 0]"
      ]
     },
     "execution_count": 86,
     "metadata": {},
     "output_type": "execute_result"
    }
   ],
   "source": [
    "d\n"
   ]
  },
  {
   "cell_type": "code",
   "execution_count": 92,
   "metadata": {},
   "outputs": [
    {
     "data": {
      "text/plain": [
       "<matplotlib.axes._subplots.AxesSubplot at 0x14324c32488>"
      ]
     },
     "execution_count": 92,
     "metadata": {},
     "output_type": "execute_result"
    },
    {
     "data": {
      "image/png": "[encoded data removed]",
      "text/plain": [
       "<Figure size 432x288 with 1 Axes>"
      ]
     },
     "metadata": {
      "needs_background": "light"
     },
     "output_type": "display_data"
    }
   ],
   "source": [
    " #fourth: R R L R R L L R R R L L R L L\n",
    "    #R (starting with second)\n",
    "d[2] = rotate45(d[0][0], d[0][1])\n",
    "df_cord = df_cord.append({'X':d[2][0], 'Y':d[2][1]}, ignore_index=True)\n",
    "d[3] = rotate45(d[1][0], d[1][1])\n",
    "df_cord = df_cord.append({'X':d[3][0], 'Y':d[3][1]}, ignore_index=True)\n",
    "\n",
    "df_cord.plot(kind='scatter', x='X', y='Y')"
   ]
  },
  {
   "cell_type": "code",
   "execution_count": 93,
   "metadata": {},
   "outputs": [
    {
     "data": {
      "text/plain": [
       "<matplotlib.axes._subplots.AxesSubplot at 0x14324ca8108>"
      ]
     },
     "execution_count": 93,
     "metadata": {},
     "output_type": "execute_result"
    },
    {
     "data": {
      "image/png": "[encoded data removed]",
      "text/plain": [
       "<Figure size 432x288 with 1 Axes>"
      ]
     },
     "metadata": {
      "needs_background": "light"
     },
     "output_type": "display_data"
    }
   ],
   "source": [
    "#fourth: R R L R R L L R R R L L R L L\n",
    "    #L (starting with 1st)\n",
    "d[4] = rotate135(d[0][0], d[0][1])\n",
    "df_cord = df_cord.append({'X':d[4][0], 'Y':d[4][1]}, ignore_index=True)\n",
    "d[5] = rotate135(d[1][0], d[1][1])\n",
    "df_cord = df_cord.append({'X':d[5][0], 'Y':d[5][1]}, ignore_index=True)\n",
    "d[6] = rotate135(d[2][0], d[2][1])\n",
    "df_cord = df_cord.append({'X':d[6][0], 'Y':d[6][1]}, ignore_index=True)\n",
    "d[7] = rotate135(d[3][0], d[3][1])\n",
    "df_cord = df_cord.append({'X':d[7][0], 'Y':d[7][1]}, ignore_index=True)\n",
    "\n",
    "df_cord.plot(kind='scatter', x='X', y='Y')"
   ]
  },
  {
   "cell_type": "code",
   "execution_count": 94,
   "metadata": {},
   "outputs": [
    {
     "data": {
      "text/plain": [
       "<matplotlib.axes._subplots.AxesSubplot at 0x14324d080c8>"
      ]
     },
     "execution_count": 94,
     "metadata": {},
     "output_type": "execute_result"
    },
    {
     "data": {
      "image/png": "[encoded data removed]",
      "text/plain": [
       "<Figure size 432x288 with 1 Axes>"
      ]
     },
     "metadata": {
      "needs_background": "light"
     },
     "output_type": "display_data"
    }
   ],
   "source": [
    " #R (starting with 3rd)\n",
    "d[8] = rotate45(d[0][0], d[0][1])\n",
    "df_cord = df_cord.append({'X':d[8][0], 'Y':d[8][1]}, ignore_index=True)\n",
    "d[9] = rotate45(d[1][0], d[1][1])\n",
    "df_cord = df_cord.append({'X':d[9][0], 'Y':d[9][1]}, ignore_index=True)\n",
    "d[10] = rotate45(d[2][0], d[2][1])\n",
    "df_cord = df_cord.append({'X':d[10][0], 'Y':d[10][1]}, ignore_index=True)\n",
    "d[11] = rotate45(d[3][0], d[3][1])\n",
    "df_cord = df_cord.append({'X':d[11][0], 'Y':d[11][1]}, ignore_index=True)\n",
    "d[12] = rotate45(d[4][0], d[0][1])\n",
    "df_cord = df_cord.append({'X':d[12][0], 'Y':d[12][1]}, ignore_index=True)\n",
    "d[13] = rotate45(d[5][0], d[1][1])\n",
    "df_cord = df_cord.append({'X':d[13][0], 'Y':d[13][1]}, ignore_index=True)\n",
    "d[14] = rotate45(d[6][0], d[2][1])\n",
    "df_cord = df_cord.append({'X':d[14][0], 'Y':d[14][1]}, ignore_index=True)\n",
    "d[15] = rotate45(d[7][0], d[7][1])\n",
    "df_cord = df_cord.append({'X':d[15][0], 'Y':d[15][1]}, ignore_index=True)\n",
    "\n",
    "\n",
    "df_cord.plot(kind='scatter', x='X', y='Y')"
   ]
  },
  {
   "cell_type": "code",
   "execution_count": 95,
   "metadata": {},
   "outputs": [
    {
     "data": {
      "text/plain": [
       "<matplotlib.axes._subplots.AxesSubplot at 0x14324d91688>"
      ]
     },
     "execution_count": 95,
     "metadata": {},
     "output_type": "execute_result"
    },
    {
     "data": {
      "image/png": "[encoded data removed]",
      "text/plain": [
       "<Figure size 432x288 with 1 Axes>"
      ]
     },
     "metadata": {
      "needs_background": "light"
     },
     "output_type": "display_data"
    }
   ],
   "source": [
    " #R (starting with 3rd)\n",
    "d[16] = rotate45(d[0][0], d[0][1])\n",
    "df_cord = df_cord.append({'X':d[16][0], 'Y':d[16][1]}, ignore_index=True)\n",
    "d[17] = rotate45(d[1][0], d[1][1])\n",
    "df_cord = df_cord.append({'X':d[17][0], 'Y':d[17][1]}, ignore_index=True)\n",
    "d[18] = rotate45(d[2][0], d[2][1])\n",
    "df_cord = df_cord.append({'X':d[18][0], 'Y':d[18][1]}, ignore_index=True)\n",
    "d[19] = rotate45(d[3][0], d[3][1])\n",
    "df_cord = df_cord.append({'X':d[19][0], 'Y':d[19][1]}, ignore_index=True)\n",
    "d[20] = rotate45(d[4][0], d[0][1])\n",
    "df_cord = df_cord.append({'X':d[20][0], 'Y':d[20][1]}, ignore_index=True)\n",
    "d[21] = rotate45(d[5][0], d[1][1])\n",
    "df_cord = df_cord.append({'X':d[21][0], 'Y':d[21][1]}, ignore_index=True)\n",
    "d[22] = rotate45(d[6][0], d[2][1])\n",
    "df_cord = df_cord.append({'X':d[22][0], 'Y':d[22][1]}, ignore_index=True)\n",
    "d[23] = rotate45(d[7][0], d[7][1])\n",
    "df_cord = df_cord.append({'X':d[23][0], 'Y':d[23][1]}, ignore_index=True)\n",
    "d[24] = rotate45(d[8][0], d[8][1])\n",
    "df_cord = df_cord.append({'X':d[24][0], 'Y':d[24][1]}, ignore_index=True)\n",
    "d[25] = rotate45(d[9][0], d[9][1])\n",
    "df_cord = df_cord.append({'X':d[25][0], 'Y':d[25][1]}, ignore_index=True)\n",
    "d[26] = rotate45(d[10][0], d[10][1])\n",
    "df_cord = df_cord.append({'X':d[26][0], 'Y':d[26][1]}, ignore_index=True)\n",
    "d[27] = rotate45(d[11][0], d[11][1])\n",
    "df_cord = df_cord.append({'X':d[27][0], 'Y':d[27][1]}, ignore_index=True)\n",
    "d[28] = rotate45(d[12][0], d[12][1])\n",
    "df_cord = df_cord.append({'X':d[28][0], 'Y':d[28][1]}, ignore_index=True)\n",
    "d[29] = rotate45(d[13][0], d[13][1])\n",
    "df_cord = df_cord.append({'X':d[29][0], 'Y':d[29][1]}, ignore_index=True)\n",
    "d[30] = rotate45(d[14][0], d[14][1])\n",
    "df_cord = df_cord.append({'X':d[30][0], 'Y':d[30][1]}, ignore_index=True)\n",
    "d[31] = rotate45(d[15][0], d[15][1])\n",
    "df_cord = df_cord.append({'X':d[31][0], 'Y':d[31][1]}, ignore_index=True)\n",
    "\n",
    "\n",
    "\n",
    "df_cord.plot(kind='scatter', x='X', y='Y')"
   ]
  },
  {
   "cell_type": "code",
   "execution_count": 96,
   "metadata": {},
   "outputs": [
    {
     "data": {
      "text/plain": [
       "<matplotlib.axes._subplots.AxesSubplot at 0x14324d8eb48>"
      ]
     },
     "execution_count": 96,
     "metadata": {},
     "output_type": "execute_result"
    },
    {
     "data": {
      "image/png": "[encoded data removed]",
      "text/plain": [
       "<Figure size 432x288 with 1 Axes>"
      ]
     },
     "metadata": {
      "needs_background": "light"
     },
     "output_type": "display_data"
    }
   ],
   "source": [
    " #L (starting with 2rd)\n",
    "d[32] = rotate135(d[0][0], d[0][1])\n",
    "df_cord = df_cord.append({'X':d[32][0], 'Y':d[32][1]}, ignore_index=True)\n",
    "d[33] = rotate135(d[1][0], d[1][1])\n",
    "df_cord = df_cord.append({'X':d[33][0], 'Y':d[33][1]}, ignore_index=True)\n",
    "d[34] = rotate135(d[2][0], d[2][1])\n",
    "df_cord = df_cord.append({'X':d[34][0], 'Y':d[34][1]}, ignore_index=True)\n",
    "d[35] = rotate135(d[3][0], d[3][1])\n",
    "df_cord = df_cord.append({'X':d[35][0], 'Y':d[35][1]}, ignore_index=True)\n",
    "d[36] = rotate135(d[4][0], d[0][1])\n",
    "df_cord = df_cord.append({'X':d[36][0], 'Y':d[36][1]}, ignore_index=True)\n",
    "d[37] = rotate135(d[5][0], d[1][1])\n",
    "df_cord = df_cord.append({'X':d[37][0], 'Y':d[37][1]}, ignore_index=True)\n",
    "d[38] = rotate135(d[6][0], d[2][1])\n",
    "df_cord = df_cord.append({'X':d[38][0], 'Y':d[38][1]}, ignore_index=True)\n",
    "d[39] = rotate135(d[7][0], d[7][1])\n",
    "df_cord = df_cord.append({'X':d[39][0], 'Y':d[39][1]}, ignore_index=True)\n",
    "d[40] = rotate135(d[8][0], d[8][1])\n",
    "df_cord = df_cord.append({'X':d[40][0], 'Y':d[40][1]}, ignore_index=True)\n",
    "d[41] = rotate135(d[9][0], d[9][1])\n",
    "df_cord = df_cord.append({'X':d[41][0], 'Y':d[41][1]}, ignore_index=True)\n",
    "d[42] = rotate135(d[10][0], d[10][1])\n",
    "df_cord = df_cord.append({'X':d[42][0], 'Y':d[42][1]}, ignore_index=True)\n",
    "d[43] = rotate135(d[11][0], d[11][1])\n",
    "df_cord = df_cord.append({'X':d[43][0], 'Y':d[43][1]}, ignore_index=True)\n",
    "d[44] = rotate135(d[12][0], d[12][1])\n",
    "df_cord = df_cord.append({'X':d[44][0], 'Y':d[44][1]}, ignore_index=True)\n",
    "d[45] = rotate135(d[13][0], d[13][1])\n",
    "df_cord = df_cord.append({'X':d[45][0], 'Y':d[45][1]}, ignore_index=True)\n",
    "d[46] = rotate135(d[14][0], d[14][1])\n",
    "df_cord = df_cord.append({'X':d[46][0], 'Y':d[46][1]}, ignore_index=True)\n",
    "d[47] = rotate135(d[15][0], d[15][1])\n",
    "df_cord = df_cord.append({'X':d[47][0], 'Y':d[47][1]}, ignore_index=True)\n",
    "d[48] = rotate135(d[16][0], d[16][1])\n",
    "df_cord = df_cord.append({'X':d[48][0], 'Y':d[48][1]}, ignore_index=True)\n",
    "d[49] = rotate135(d[17][0], d[17][1])\n",
    "df_cord = df_cord.append({'X':d[49][0], 'Y':d[49][1]}, ignore_index=True)\n",
    "d[50] = rotate135(d[18][0], d[18][1])\n",
    "df_cord = df_cord.append({'X':d[50][0], 'Y':d[50][1]}, ignore_index=True)\n",
    "d[51] = rotate135(d[19][0], d[19][1])\n",
    "df_cord = df_cord.append({'X':d[51][0], 'Y':d[51][1]}, ignore_index=True)\n",
    "d[52] = rotate135(d[20][0], d[20][1])\n",
    "df_cord = df_cord.append({'X':d[52][0], 'Y':d[52][1]}, ignore_index=True)\n",
    "d[53] = rotate135(d[21][0], d[21][1])\n",
    "df_cord = df_cord.append({'X':d[53][0], 'Y':d[53][1]}, ignore_index=True)\n",
    "d[54] = rotate135(d[22][0], d[22][1])\n",
    "df_cord = df_cord.append({'X':d[54][0], 'Y':d[54][1]}, ignore_index=True)\n",
    "d[55] = rotate135(d[23][0], d[23][1])\n",
    "df_cord = df_cord.append({'X':d[55][0], 'Y':d[55][1]}, ignore_index=True)\n",
    "d[56] = rotate135(d[24][0], d[24][1])\n",
    "df_cord = df_cord.append({'X':d[56][0], 'Y':d[56][1]}, ignore_index=True)\n",
    "d[57] = rotate135(d[25][0], d[25][1])\n",
    "df_cord = df_cord.append({'X':d[57][0], 'Y':d[57][1]}, ignore_index=True)\n",
    "d[58] = rotate135(d[26][0], d[26][1])\n",
    "df_cord = df_cord.append({'X':d[58][0], 'Y':d[58][1]}, ignore_index=True)\n",
    "d[59] = rotate135(d[27][0], d[27][1])\n",
    "df_cord = df_cord.append({'X':d[59][0], 'Y':d[59][1]}, ignore_index=True)\n",
    "d[60] = rotate135(d[28][0], d[28][1])\n",
    "df_cord = df_cord.append({'X':d[60][0], 'Y':d[60][1]}, ignore_index=True)\n",
    "d[61] = rotate135(d[29][0], d[29][1])\n",
    "df_cord = df_cord.append({'X':d[61][0], 'Y':d[61][1]}, ignore_index=True)\n",
    "d[62] = rotate135(d[30][0], d[30][1])\n",
    "df_cord = df_cord.append({'X':d[62][0], 'Y':d[62][1]}, ignore_index=True)\n",
    "d[63] = rotate135(d[31][0], d[31][1])\n",
    "df_cord = df_cord.append({'X':d[63][0], 'Y':d[63][1]}, ignore_index=True)\n",
    "\n",
    "df_cord.plot(kind='scatter', x='X', y='Y')"
   ]
  },
  {
   "cell_type": "code",
   "execution_count": null,
   "metadata": {},
   "outputs": [],
   "source": []
  },
  {
   "cell_type": "code",
   "execution_count": null,
   "metadata": {},
   "outputs": [],
   "source": []
  }
 ],
 "metadata": {
  "kernelspec": {
   "display_name": "Python 3",
   "language": "python",
   "name": "python3"
  },
  "language_info": {
   "codemirror_mode": {
    "name": "ipython",
    "version": 3
   },
   "file_extension": ".py",
   "mimetype": "text/x-python",
   "name": "python",
   "nbconvert_exporter": "python",
   "pygments_lexer": "ipython3",
   "version": "3.7.6"
  }
 },
 "nbformat": 4,
 "nbformat_minor": 4
}
